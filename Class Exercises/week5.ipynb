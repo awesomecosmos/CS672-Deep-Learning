{
 "cells": [
  {
   "cell_type": "markdown",
   "metadata": {},
   "source": [
    "# CS672 Deep Learning\n",
    "\n",
    "Class Code-Alongs with Prof. Sarbanes"
   ]
  },
  {
   "cell_type": "code",
   "execution_count": 2,
   "metadata": {},
   "outputs": [
    {
     "name": "stderr",
     "output_type": "stream",
     "text": [
      "2023-10-09 19:15:19.911963: I tensorflow/core/platform/cpu_feature_guard.cc:182] This TensorFlow binary is optimized to use available CPU instructions in performance-critical operations.\n",
      "To enable the following instructions: AVX2 FMA, in other operations, rebuild TensorFlow with the appropriate compiler flags.\n"
     ]
    }
   ],
   "source": [
    "import tensorflow as tf"
   ]
  },
  {
   "cell_type": "markdown",
   "metadata": {},
   "source": [
    "## Keras - Models API"
   ]
  },
  {
   "cell_type": "markdown",
   "metadata": {},
   "source": [
    "We define a network with an input layer with shape (16,)."
   ]
  },
  {
   "cell_type": "code",
   "execution_count": null,
   "metadata": {},
   "outputs": [],
   "source": []
  },
  {
   "cell_type": "code",
   "execution_count": 3,
   "metadata": {},
   "outputs": [
    {
     "name": "stdout",
     "output_type": "stream",
     "text": [
      "Model: \"sequential\"\n",
      "_________________________________________________________________\n",
      " Layer (type)                Output Shape              Param #   \n",
      "=================================================================\n",
      " dense (Dense)               (None, 8)                 136       \n",
      "                                                                 \n",
      "=================================================================\n",
      "Total params: 136 (544.00 Byte)\n",
      "Trainable params: 136 (544.00 Byte)\n",
      "Non-trainable params: 0 (0.00 Byte)\n",
      "_________________________________________________________________\n"
     ]
    }
   ],
   "source": [
    "model1 = tf.keras.Sequential()\n",
    "model1.add(tf.keras.layers.Dense(8, input_shape=(16,)))\n",
    "model1.summary()"
   ]
  },
  {
   "cell_type": "code",
   "execution_count": 8,
   "metadata": {},
   "outputs": [
    {
     "data": {
      "text/plain": [
       "[array([[ 0.399032  ,  0.19821906, -0.17982745, -0.42822278,  0.06651998,\n",
       "          0.31086445, -0.44983232, -0.376122  ],\n",
       "        [ 0.37341762,  0.46281087, -0.1416316 ,  0.44764185,  0.14334238,\n",
       "         -0.30914307,  0.3495505 , -0.27790856],\n",
       "        [ 0.41918266,  0.23844755,  0.24146152,  0.1934433 ,  0.31236553,\n",
       "         -0.31551838, -0.19686735, -0.2999041 ],\n",
       "        [-0.4180708 , -0.17539585,  0.05648589,  0.22568512, -0.38285625,\n",
       "         -0.17615879,  0.02792513,  0.08789957],\n",
       "        [-0.30218923, -0.09039402, -0.18490088, -0.49258482,  0.33319068,\n",
       "          0.42610395, -0.3901801 ,  0.14742732],\n",
       "        [-0.24365854,  0.43310952, -0.4432044 , -0.355034  ,  0.34847605,\n",
       "          0.453974  ,  0.23796117, -0.14325285],\n",
       "        [ 0.36529994, -0.11248684, -0.29708147,  0.31105816,  0.22062123,\n",
       "          0.24664438, -0.34199417,  0.43215656],\n",
       "        [-0.05294168, -0.26361048, -0.42858553, -0.06988752,  0.35628664,\n",
       "         -0.04710066,  0.45453584, -0.10114682],\n",
       "        [-0.43658078, -0.37044644, -0.15705359, -0.38970518, -0.1244992 ,\n",
       "          0.3542571 , -0.4634465 , -0.18453646],\n",
       "        [-0.44924212, -0.47451222,  0.0241226 ,  0.18243194,  0.32434702,\n",
       "         -0.08883166,  0.06038725, -0.21631932],\n",
       "        [-0.04798079,  0.15913832, -0.3525685 ,  0.45238197,  0.12240922,\n",
       "         -0.19312346, -0.0736146 ,  0.08507836],\n",
       "        [ 0.4283285 ,  0.24258137,  0.250777  , -0.22460687,  0.25723493,\n",
       "         -0.34871018, -0.16551006, -0.43044662],\n",
       "        [-0.2558453 , -0.33874202,  0.3728403 ,  0.10589528,  0.22312188,\n",
       "          0.2971661 , -0.2900536 , -0.01240587],\n",
       "        [ 0.26269627,  0.06728232,  0.14842868, -0.42896354,  0.1727804 ,\n",
       "         -0.23522532,  0.10569453,  0.41011822],\n",
       "        [ 0.3135115 ,  0.34095848,  0.04571807,  0.30165315, -0.33762407,\n",
       "         -0.10991669, -0.34343743, -0.13130784],\n",
       "        [ 0.350932  , -0.04720211, -0.2586006 ,  0.13115561,  0.06572294,\n",
       "          0.44602215,  0.26131475, -0.04419887]], dtype=float32),\n",
       " array([0., 0., 0., 0., 0., 0., 0., 0.], dtype=float32)]"
      ]
     },
     "execution_count": 8,
     "metadata": {},
     "output_type": "execute_result"
    }
   ],
   "source": [
    "model1.get_weights()"
   ]
  },
  {
   "cell_type": "code",
   "execution_count": 6,
   "metadata": {},
   "outputs": [],
   "source": [
    "model2 = tf.keras.Sequential()\n",
    "model2.add(tf.keras.layers.Dense(8))\n",
    "model2.add(tf.keras.layers.Dense(4))\n",
    "# model2.summary()"
   ]
  },
  {
   "cell_type": "markdown",
   "metadata": {},
   "source": [
    "The last line of code above produces an error because the input (first layer) is not defined. The weights and biases are defined from this first input layer, and so by definition, if the input layer does not exist, the weights and biases cannot exist, and neither can the rest of the network."
   ]
  }
 ],
 "metadata": {
  "kernelspec": {
   "display_name": ".venv",
   "language": "python",
   "name": "python3"
  },
  "language_info": {
   "codemirror_mode": {
    "name": "ipython",
    "version": 3
   },
   "file_extension": ".py",
   "mimetype": "text/x-python",
   "name": "python",
   "nbconvert_exporter": "python",
   "pygments_lexer": "ipython3",
   "version": "3.11.5"
  }
 },
 "nbformat": 4,
 "nbformat_minor": 2
}
